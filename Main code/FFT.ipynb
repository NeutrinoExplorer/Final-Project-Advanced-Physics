{
  "nbformat": 4,
  "nbformat_minor": 0,
  "metadata": {
    "colab": {
      "provenance": [],
      "authorship_tag": "ABX9TyMkjCVFwFjvTqadgbgifXbi",
      "include_colab_link": true
    },
    "kernelspec": {
      "name": "python3",
      "display_name": "Python 3"
    },
    "language_info": {
      "name": "python"
    }
  },
  "cells": [
    {
      "cell_type": "markdown",
      "metadata": {
        "id": "view-in-github",
        "colab_type": "text"
      },
      "source": [
        "<a href=\"https://colab.research.google.com/github/NeutrinoExplorer/Final-Project-Advanced-Physics/blob/main/Main%20code/FFT.ipynb\" target=\"_parent\"><img src=\"https://colab.research.google.com/assets/colab-badge.svg\" alt=\"Open In Colab\"/></a>"
      ]
    },
    {
      "cell_type": "code",
      "source": [
        "# Import libraries\n",
        "import numpy as np\n",
        "import pandas as pd\n",
        "import matplotlib.pyplot as plt\n",
        "from google.colab import files\n",
        "\n",
        "# Prompt user to upload an Excel file\n",
        "display(\"Please upload your Excel file\")\n",
        "uploaded = files.upload()\n",
        "\n",
        "# Get the name of the uploaded file\n",
        "filename = list(uploaded.keys())[0]\n",
        "\n",
        "# Load data from the uploaded file\n",
        "data = pd.read_excel(filename, sheet_name='Hoja1')\n",
        "\n",
        "# Assuming columns are 'Tiempo' and 'Aceleracion'\n",
        "tiempo = data['Tiempo'].values\n",
        "aceleracion = data['Aceleracion'].values\n",
        "\n",
        "# Parameters for FFT\n",
        "Fs = 1 / (tiempo[1] - tiempo[0])  # Sampling frequency\n",
        "N = len(aceleracion)  # Number of points\n",
        "\n",
        "# Perform the Fourier Transform\n",
        "Y = np.fft.fft(aceleracion)\n",
        "Y = np.fft.fftshift(Y)  # Center the FFT\n",
        "\n",
        "# Create the frequency vector\n",
        "f = np.fft.fftfreq(N, d=1/Fs)\n",
        "f = np.fft.fftshift(f)  # Center the frequencies\n",
        "\n",
        "# Plot the signal in the time domain\n",
        "plt.figure(figsize=(12, 6))\n",
        "\n",
        "plt.subplot(2, 1, 1)\n",
        "plt.plot(tiempo, aceleracion)\n",
        "plt.title('Signal in the Time Domain')\n",
        "plt.xlabel('Time [s]')\n",
        "plt.ylabel('Acceleration')\n",
        "\n",
        "# Plot the magnitude of the Fourier Transform\n",
        "plt.subplot(2, 1, 2)\n",
        "plt.plot(f, np.abs(Y))\n",
        "plt.title('Fourier Transform')\n",
        "plt.xlabel('Frequency [Hz]')\n",
        "plt.ylabel('Magnitude')\n",
        "plt.xlim(0, Fs/2)  # Show only positive frequencies\n",
        "\n",
        "plt.tight_layout()\n",
        "plt.show()"
      ],
      "metadata": {
        "id": "ADoYjzgJGcg-"
      },
      "execution_count": null,
      "outputs": []
    }
  ]
}